{
 "cells": [
  {
   "cell_type": "markdown",
   "metadata": {},
   "source": [
    "## **University of Illinois Chicago**\n",
    "CS 418 - Fall 2024 Team 5"
   ]
  },
  {
   "cell_type": "markdown",
   "metadata": {},
   "source": [
    "## **Data-Driven Course Insights: Predicting Grade Trends**"
   ]
  },
  {
   "cell_type": "markdown",
   "metadata": {},
   "source": [
    "## **Authors:**\n",
    "| **Name**  | **Email** | **Github Handle** |\n",
    "|---|---|---|\n",
    "| Arlette Diaz | adiaz218@uic.edu | adiaz218 |\n",
    "| Marianne Hernandez | mhern85@uic.edu | marhern19 |\n",
    "| Nandini Jirobe | njiro2@uic.edu | nandinijirobe |\n",
    "| Sharadruthi Muppidi | smuppi2@uic.edu | sharadruthi-uic |\n",
    "| Sonina Mut | smut3@uic.edu | snina22 |\n",
    "| Yuting Lu | lyuti@uic.edu | yutinglu103 |"
   ]
  },
  {
   "cell_type": "markdown",
   "metadata": {},
   "source": [
    "**Github Repository Link: https://github.com/cs418-fa24/project-check-in-team-5**"
   ]
  },
  {
   "cell_type": "markdown",
   "metadata": {},
   "source": [
    "## **Project Description**"
   ]
  },
  {
   "cell_type": "markdown",
   "metadata": {},
   "source": [
    "This project is to predict course grade distributions and popularity rankings for upcoming semesters, enabling students to make informed decisions about their class selections. By shifting the focus from individual grade predictions to overall course outcomes, the project provides insights into course grading trends and demand. It uses clustering to rank courses based on student performance and popularity, and topic-based grouping to help students discover courses aligned with their interests, factoring in professor expertise and class attributes. This data-driven tool uncovers hidden patterns, aiding both students and academic planning."
   ]
  },
  {
   "cell_type": "markdown",
   "metadata": {},
   "source": [
    "## **Project Update**"
   ]
  },
  {
   "cell_type": "code",
   "execution_count": null,
   "metadata": {},
   "outputs": [],
   "source": [
    "import sys\n",
    "python_loc = sys.executable\n",
    "\n",
    "!{python_loc} -m pip install pandas\n",
    "!{python_loc} -m pip install scikit-learn\n",
    "!{python_loc} -m pip install matplotlib\n",
    "!{python_loc} -m pip install seaborn"
   ]
  },
  {
   "cell_type": "code",
   "execution_count": null,
   "metadata": {},
   "outputs": [],
   "source": [
    "# import useful libraries\n",
    "import pandas as pd\n",
    "import numpy as np\n",
    "from sklearn.cluster import KMeans\n",
    "from sklearn.preprocessing import StandardScaler\n",
    "from sklearn.decomposition import PCA\n",
    "from datetime import datetime\n",
    "import matplotlib.pyplot as plt\n",
    "import seaborn as sns"
   ]
  },
  {
   "cell_type": "markdown",
   "metadata": {},
   "source": [
    "### **Part 1: Load Datasets**"
   ]
  },
  {
   "cell_type": "code",
   "execution_count": null,
   "metadata": {},
   "outputs": [],
   "source": [
    "# Grade distribution data \n",
    "cs_grades = pd.read_csv('uic_GD_CS_14_24.csv')\n",
    "meie_grades = pd.read_csv('uic_GD_MEIE_14_24.csv')\n",
    "\n",
    "# Rate My Professor Data\n",
    "cs_rmp = pd.read_csv('uic_RMP_CS_14_24.csv')\n",
    "meie_rmp = pd.read_csv('CS418_Team5_DataSet - RMP_MEIE_14_24.csv')\n",
    "\n",
    "# Google Scholar Data\n",
    "cs_gs = pd.read_csv('CS418_Team5_DataSet - GS_CS_14_24.csv')\n",
    "meie_gs = pd.read_csv('CS418_Team5_DataSet - GS_MEIE_14_24.csv')\n",
    "\n",
    "# Lecture Data\n",
    "cs_lectures = pd.read_csv('uic_CS_lectures_all_semesters.csv')\n",
    "me_lectures = pd.read_csv('uic_ME_lectures_all_semesters.csv')\n",
    "ie_lectures = pd.read_csv('uic_IE_lectures_all_semesters.csv')\n",
    "\n",
    "# Course Description Data\n",
    "cs_descrip = pd.read_csv('CS418_Team5_DataSet - CS_Descrip.csv')"
   ]
  },
  {
   "cell_type": "markdown",
   "metadata": {},
   "source": [
    "### **Part 2: Data Cleaning**"
   ]
  },
  {
   "cell_type": "markdown",
   "metadata": {},
   "source": [
    "#### **Dataset 1 - Grade Distribution**"
   ]
  },
  {
   "cell_type": "code",
   "execution_count": null,
   "metadata": {},
   "outputs": [],
   "source": [
    "# Grade distribution data cleaning\n",
    "# Drop columns where all values are zero\n",
    "cs_grades = cs_grades.loc[:, (cs_grades != 0).any(axis=0)]\n",
    "meie_grades = meie_grades.loc[:, (meie_grades != 0).any(axis=0)]\n",
    "\n",
    "# Drop rows where CRS TITLE (course title) contains \"research\" or \"seminar\" (case-insensitive)\n",
    "cs_grades = cs_grades[~cs_grades['CRS TITLE'].str.contains(\"research|seminar\", case=False, na=False)]\n",
    "meie_grades = meie_grades[~meie_grades['CRS TITLE'].str.contains(\"research|seminar\", case=False, na=False)]\n",
    "\n",
    "# Convert all numeric columns to integers or floats\n",
    "for col in cs_grades.columns:\n",
    "    cs_grades[col] = pd.to_numeric(cs_grades[col], errors='ignore')\n",
    "\n",
    "for col in meie_grades.columns:\n",
    "    meie_grades[col] = pd.to_numeric(meie_grades[col], errors='ignore')\n",
    "\n",
    "# Save the cleaned data to a new CSV file\n",
    "cs_grades.to_csv(\"uic_GD_CS_14_24.csv\", index=False)\n",
    "meie_grades.to_csv(\"uic_GD_MEIE_14_24.csv\", index=False)"
   ]
  },
  {
   "cell_type": "markdown",
   "metadata": {},
   "source": [
    "**Dataset 2 - Rate My Professor - computer Science Department**"
   ]
  },
  {
   "cell_type": "code",
   "execution_count": null,
   "metadata": {},
   "outputs": [],
   "source": [
    "cs_grades.rename(columns={'Primary Instructor': 'Instructor'}, inplace=True)\n",
    "\n",
    "# Filter for courses\n",
    "cs_grades = cs_grades[cs_grades['CRS NBR'].between(100, 599)]\n",
    "\n",
    "merged_data = pd.merge(cs_grades, cs_rmp, on='Instructor', how='left')\n",
    "\n",
    "# Fill missing values with \"N/A\" for NULL columns\n",
    "merged_data['Rating'] = merged_data['Rating'].fillna(\"N/A\")\n",
    "merged_data['Num Reviews'] = merged_data['Num Reviews'].fillna(\"N/A\")\n",
    "merged_data[['CRS SUBJ CD', 'CRS TITLE', 'Instructor']] = merged_data[['CRS SUBJ CD', 'CRS TITLE', 'Instructor']].fillna(\"N/A\")\n",
    "\n",
    "# Select relevant columns and sort by course number (CRS NBR)\n",
    "result_data = merged_data[['CRS SUBJ CD', 'CRS NBR', 'CRS TITLE', 'Instructor', 'Rating', 'Num Reviews']]\n",
    "result_data = result_data.sort_values(by=['CRS NBR'])\n",
    "\n",
    "# print(tabulate(result_data, headers='keys', tablefmt='fancy_grid', showindex=False))"
   ]
  },
  {
   "cell_type": "markdown",
   "metadata": {},
   "source": [
    "#### **Dataset 3 - Class Scheduler Data**"
   ]
  },
  {
   "cell_type": "code",
   "execution_count": null,
   "metadata": {},
   "outputs": [],
   "source": [
    "# Function to determine the time of day\n",
    "def get_time_of_day(start_time):\n",
    "    if 5 <= start_time.hour < 12:\n",
    "        return \"morning\"\n",
    "    elif 12 <= start_time.hour < 17:\n",
    "        return \"afternoon\"\n",
    "    else:\n",
    "        return \"evening\"\n",
    "\n",
    "# Function to calculate class duration in minutes\n",
    "def calculate_duration(start_time, end_time):\n",
    "    duration = end_time - start_time\n",
    "    return duration.total_seconds() / 60  # Convert seconds to minutes\n",
    "\n",
    "# All cs lectures\n",
    "# Lists to store calculated values\n",
    "times_of_day = []\n",
    "durations = []\n",
    "\n",
    "for time_range in cs_lectures['Time']:\n",
    "    try:\n",
    "        # Split the time range (e.g., \"08:00 AM - 09:15 AM\")\n",
    "        start_str, end_str = time_range.split(\" - \")\n",
    "        \n",
    "        # Convert to datetime objects\n",
    "        start_time = datetime.strptime(start_str.strip(), \"%I:%M %p\")\n",
    "        end_time = datetime.strptime(end_str.strip(), \"%I:%M %p\")\n",
    "        \n",
    "        # Determine time of day and calculate duration\n",
    "        times_of_day.append(get_time_of_day(start_time))\n",
    "        durations.append(calculate_duration(start_time, end_time))\n",
    "        \n",
    "    except Exception as e:\n",
    "        # Handle any parsing errors by setting defaults\n",
    "        times_of_day.append(\"unknown\")\n",
    "        durations.append(None)\n",
    "\n",
    "# Assign the lists directly to the new columns\n",
    "cs_lectures['Time of Day'] = times_of_day\n",
    "cs_lectures['Duration of Class (minutes)'] = durations\n",
    "\n",
    "unwanted_columns = ['Morning', 'Afternoon', 'Evening', 'Duration of Class']\n",
    "cs_lectures.drop(columns=unwanted_columns, errors='ignore', inplace=True)\n",
    "\n",
    "cs_lectures.to_csv(\"uic_CS_lectures_all_semesters.csv\", index=False)\n",
    "\n",
    "# All me lectures\n",
    "# Lists to store calculated values\n",
    "times_of_day = []\n",
    "durations = []\n",
    "\n",
    "for time_range in me_lectures['Time']:\n",
    "    try:\n",
    "        # Split the time range (e.g., \"08:00 AM - 09:15 AM\")\n",
    "        start_str, end_str = time_range.split(\" - \")\n",
    "        \n",
    "        # Convert to datetime objects\n",
    "        start_time = datetime.strptime(start_str.strip(), \"%I:%M %p\")\n",
    "        end_time = datetime.strptime(end_str.strip(), \"%I:%M %p\")\n",
    "        \n",
    "        # Determine time of day and calculate duration\n",
    "        times_of_day.append(get_time_of_day(start_time))\n",
    "        durations.append(calculate_duration(start_time, end_time))\n",
    "        \n",
    "    except Exception as e:\n",
    "        # Handle any parsing errors by setting defaults\n",
    "        times_of_day.append(\"unknown\")\n",
    "        durations.append(None)\n",
    "\n",
    "# Assign the lists directly to the new columns\n",
    "me_lectures['Time of Day'] = times_of_day\n",
    "me_lectures['Duration of Class (minutes)'] = durations\n",
    "\n",
    "unwanted_columns = ['Morning', 'Afternoon', 'Evening', 'Duration of Class']\n",
    "me_lectures.drop(columns=unwanted_columns, errors='ignore', inplace=True)\n",
    "\n",
    "me_lectures.to_csv(\"uic_ME_lectures_all_semesters.csv\", index=False)\n",
    "\n",
    "# All ie lectures\n",
    "# Lists to store calculated values\n",
    "times_of_day = []\n",
    "durations = []\n",
    "\n",
    "for time_range in ie_lectures['Time']:\n",
    "    try:\n",
    "        # Split the time range (e.g., \"08:00 AM - 09:15 AM\")\n",
    "        start_str, end_str = time_range.split(\" - \")\n",
    "        \n",
    "        # Convert to datetime objects\n",
    "        start_time = datetime.strptime(start_str.strip(), \"%I:%M %p\")\n",
    "        end_time = datetime.strptime(end_str.strip(), \"%I:%M %p\")\n",
    "        \n",
    "        # Determine time of day and calculate duration\n",
    "        times_of_day.append(get_time_of_day(start_time))\n",
    "        durations.append(calculate_duration(start_time, end_time))\n",
    "        \n",
    "    except Exception as e:\n",
    "        # Handle any parsing errors by setting defaults\n",
    "        times_of_day.append(\"unknown\")\n",
    "        durations.append(None)\n",
    "\n",
    "# Assign the lists directly to the new columns\n",
    "ie_lectures['Time of Day'] = times_of_day\n",
    "ie_lectures['Duration of Class (minutes)'] = durations\n",
    "\n",
    "unwanted_columns = ['Morning', 'Afternoon', 'Evening', 'Duration of Class']\n",
    "ie_lectures.drop(columns=unwanted_columns, errors='ignore', inplace=True)\n",
    "\n",
    "ie_lectures.to_csv(\"uic_IE_lectures_all_semesters.csv\", index=False)"
   ]
  },
  {
   "cell_type": "markdown",
   "metadata": {},
   "source": [
    "### **Part 3: Exploratory Data Analysis**"
   ]
  },
  {
   "cell_type": "code",
   "execution_count": null,
   "metadata": {},
   "outputs": [],
   "source": []
  },
  {
   "cell_type": "markdown",
   "metadata": {},
   "source": [
    "### **Part 4: Data Visualizations**"
   ]
  },
  {
   "cell_type": "code",
   "execution_count": null,
   "metadata": {},
   "outputs": [],
   "source": []
  },
  {
   "cell_type": "markdown",
   "metadata": {},
   "source": [
    "### **Part 5: Machine Learning Analysis**"
   ]
  },
  {
   "cell_type": "markdown",
   "metadata": {},
   "source": []
  },
  {
   "cell_type": "markdown",
   "metadata": {},
   "source": [
    "## **Reflection**"
   ]
  },
  {
   "cell_type": "markdown",
   "metadata": {},
   "source": [
    "**What is the hardest part of the project that you’ve encountered so far?**\n",
    "\n",
    "\n",
    "<br>**What are your initial insights?**\n",
    "\n",
    "\n",
    "<br>**Are there any concrete results you can show at this point? If not, why not?**\n",
    "\n",
    "\n",
    "<br>**Going forward, what are the current biggest problems you’re facing?**\n",
    "\n",
    "\n",
    "<br>**Do you think you are on track with your project? If not, what parts do you need to dedicate more time to?**\n",
    "\n",
    "\n",
    "<br>**Given your initial exploration of the data, is it worth proceeding with your project, why? If not, how are you going to change your project and why do you think it’s better than your current results?**\n",
    "\n"
   ]
  },
  {
   "cell_type": "markdown",
   "metadata": {},
   "source": [
    "## **Roles/Coordination (important)**"
   ]
  },
  {
   "cell_type": "markdown",
   "metadata": {},
   "source": [
    "**Arlette Diaz:** \n",
    "* Text\n",
    "\n",
    "<br>**Marianne Hernandez:** \n",
    "* Text\n",
    "\n",
    "<br>**Nandini Jirobe:** \n",
    "* Collected Rate My Professor ratings for professors who taught Mechanical and Industrial Enginnering classes from 2014-2024\n",
    "* Collected Rate My Professor ratings for professors in the Computer Science classes from 2014-2024\n",
    "* Collected Google Scholar research interests of professors who taught Mechanical and Industrial Enginnering classes from 2014-2024\n",
    "* Collected Google Scholar research interests of professors in the Computer Science classes from 2014-2024\n",
    "* Collected course description data for computer science courses taught at UIC. \n",
    "\n",
    "<br>**Sharadruthi Muppidi:** \n",
    "* Text\n",
    "\n",
    "<br>**Sonina Mut:** \n",
    "* Text\n",
    "\n",
    "<br>**Yuting Lu:** \n",
    "* Text"
   ]
  },
  {
   "cell_type": "markdown",
   "metadata": {},
   "source": [
    "## **Next Steps**"
   ]
  }
 ],
 "metadata": {
  "kernelspec": {
   "display_name": "Python 3",
   "language": "python",
   "name": "python3"
  },
  "language_info": {
   "codemirror_mode": {
    "name": "ipython",
    "version": 3
   },
   "file_extension": ".py",
   "mimetype": "text/x-python",
   "name": "python",
   "nbconvert_exporter": "python",
   "pygments_lexer": "ipython3",
   "version": "3.11.9"
  }
 },
 "nbformat": 4,
 "nbformat_minor": 2
}
