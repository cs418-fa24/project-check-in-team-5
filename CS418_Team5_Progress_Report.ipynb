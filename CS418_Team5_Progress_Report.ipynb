{
 "cells": [
  {
   "cell_type": "markdown",
   "metadata": {},
   "source": [
    "## **University of Illinois Chicago**\n",
    "CS 418 - Fall 2024 Team 5"
   ]
  },
  {
   "cell_type": "markdown",
   "metadata": {},
   "source": [
    "## **Data-Driven Course Insights: Predicting Grade Trends**"
   ]
  },
  {
   "cell_type": "markdown",
   "metadata": {},
   "source": [
    "## **Authors:**\n",
    "| **Name**  | **Email** | **Github Handle** |\n",
    "|---|---|---|\n",
    "| Arlette Diaz | adiaz218@uic.edu | adiaz218 |\n",
    "| Marianne Hernandez | mhern85@uic.edu | marhern19 |\n",
    "| Nandini Jirobe | njiro2@uic.edu | nandinijirobe |\n",
    "| Sharadruthi Muppidi | smuppi2@uic.edu | sharadruthi-uic |\n",
    "| Sonina Mut | smut3@uic.edu | snina22 |\n",
    "| Yuting Lu | lyuti@uic.edu | yutinglu103 |"
   ]
  },
  {
   "cell_type": "markdown",
   "metadata": {},
   "source": [
    "**Github Repository Link: https://github.com/cs418-fa24/project-check-in-team-5**"
   ]
  },
  {
   "cell_type": "markdown",
   "metadata": {},
   "source": [
    "## **Project Description**"
   ]
  },
  {
   "cell_type": "markdown",
   "metadata": {},
   "source": [
    "This project is to predict course grade distributions and popularity rankings for upcoming semesters, enabling students to make informed decisions about their class selections. By shifting the focus from individual grade predictions to overall course outcomes, the project provides insights into course grading trends and demand. It uses clustering to rank courses based on student performance and popularity, and topic-based grouping to help students discover courses aligned with their interests, factoring in professor expertise and class attributes. This data-driven tool uncovers hidden patterns, aiding both students and academic planning."
   ]
  },
  {
   "cell_type": "markdown",
   "metadata": {},
   "source": [
    "## **Project Update**"
   ]
  },
  {
   "cell_type": "markdown",
   "metadata": {},
   "source": [
    "### **Import Packages**"
   ]
  },
  {
   "cell_type": "code",
   "execution_count": 23,
   "metadata": {},
   "outputs": [
    {
     "name": "stdout",
     "output_type": "stream",
     "text": [
      "Requirement already satisfied: pandas in c:\\users\\arlet\\appdata\\local\\packages\\pythonsoftwarefoundation.python.3.11_qbz5n2kfra8p0\\localcache\\local-packages\\python311\\site-packages (2.2.3)\n",
      "Requirement already satisfied: numpy>=1.23.2 in c:\\users\\arlet\\appdata\\local\\packages\\pythonsoftwarefoundation.python.3.11_qbz5n2kfra8p0\\localcache\\local-packages\\python311\\site-packages (from pandas) (2.1.3)\n",
      "Requirement already satisfied: python-dateutil>=2.8.2 in c:\\users\\arlet\\appdata\\local\\packages\\pythonsoftwarefoundation.python.3.11_qbz5n2kfra8p0\\localcache\\local-packages\\python311\\site-packages (from pandas) (2.9.0.post0)\n",
      "Requirement already satisfied: pytz>=2020.1 in c:\\users\\arlet\\appdata\\local\\packages\\pythonsoftwarefoundation.python.3.11_qbz5n2kfra8p0\\localcache\\local-packages\\python311\\site-packages (from pandas) (2024.2)\n",
      "Requirement already satisfied: tzdata>=2022.7 in c:\\users\\arlet\\appdata\\local\\packages\\pythonsoftwarefoundation.python.3.11_qbz5n2kfra8p0\\localcache\\local-packages\\python311\\site-packages (from pandas) (2024.2)\n",
      "Requirement already satisfied: six>=1.5 in c:\\users\\arlet\\appdata\\local\\packages\\pythonsoftwarefoundation.python.3.11_qbz5n2kfra8p0\\localcache\\local-packages\\python311\\site-packages (from python-dateutil>=2.8.2->pandas) (1.16.0)\n",
      "Requirement already satisfied: scikit-learn in c:\\users\\arlet\\appdata\\local\\packages\\pythonsoftwarefoundation.python.3.11_qbz5n2kfra8p0\\localcache\\local-packages\\python311\\site-packages (1.5.2)\n",
      "Requirement already satisfied: numpy>=1.19.5 in c:\\users\\arlet\\appdata\\local\\packages\\pythonsoftwarefoundation.python.3.11_qbz5n2kfra8p0\\localcache\\local-packages\\python311\\site-packages (from scikit-learn) (2.1.3)\n",
      "Requirement already satisfied: scipy>=1.6.0 in c:\\users\\arlet\\appdata\\local\\packages\\pythonsoftwarefoundation.python.3.11_qbz5n2kfra8p0\\localcache\\local-packages\\python311\\site-packages (from scikit-learn) (1.14.1)\n",
      "Requirement already satisfied: joblib>=1.2.0 in c:\\users\\arlet\\appdata\\local\\packages\\pythonsoftwarefoundation.python.3.11_qbz5n2kfra8p0\\localcache\\local-packages\\python311\\site-packages (from scikit-learn) (1.4.2)\n",
      "Requirement already satisfied: threadpoolctl>=3.1.0 in c:\\users\\arlet\\appdata\\local\\packages\\pythonsoftwarefoundation.python.3.11_qbz5n2kfra8p0\\localcache\\local-packages\\python311\\site-packages (from scikit-learn) (3.5.0)\n",
      "Requirement already satisfied: matplotlib in c:\\users\\arlet\\appdata\\local\\packages\\pythonsoftwarefoundation.python.3.11_qbz5n2kfra8p0\\localcache\\local-packages\\python311\\site-packages (3.9.2)\n",
      "Requirement already satisfied: contourpy>=1.0.1 in c:\\users\\arlet\\appdata\\local\\packages\\pythonsoftwarefoundation.python.3.11_qbz5n2kfra8p0\\localcache\\local-packages\\python311\\site-packages (from matplotlib) (1.3.0)\n",
      "Requirement already satisfied: cycler>=0.10 in c:\\users\\arlet\\appdata\\local\\packages\\pythonsoftwarefoundation.python.3.11_qbz5n2kfra8p0\\localcache\\local-packages\\python311\\site-packages (from matplotlib) (0.12.1)\n",
      "Requirement already satisfied: fonttools>=4.22.0 in c:\\users\\arlet\\appdata\\local\\packages\\pythonsoftwarefoundation.python.3.11_qbz5n2kfra8p0\\localcache\\local-packages\\python311\\site-packages (from matplotlib) (4.54.1)\n",
      "Requirement already satisfied: kiwisolver>=1.3.1 in c:\\users\\arlet\\appdata\\local\\packages\\pythonsoftwarefoundation.python.3.11_qbz5n2kfra8p0\\localcache\\local-packages\\python311\\site-packages (from matplotlib) (1.4.7)\n",
      "Requirement already satisfied: numpy>=1.23 in c:\\users\\arlet\\appdata\\local\\packages\\pythonsoftwarefoundation.python.3.11_qbz5n2kfra8p0\\localcache\\local-packages\\python311\\site-packages (from matplotlib) (2.1.3)\n",
      "Requirement already satisfied: packaging>=20.0 in c:\\users\\arlet\\appdata\\local\\packages\\pythonsoftwarefoundation.python.3.11_qbz5n2kfra8p0\\localcache\\local-packages\\python311\\site-packages (from matplotlib) (24.1)\n",
      "Requirement already satisfied: pillow>=8 in c:\\users\\arlet\\appdata\\local\\packages\\pythonsoftwarefoundation.python.3.11_qbz5n2kfra8p0\\localcache\\local-packages\\python311\\site-packages (from matplotlib) (11.0.0)\n",
      "Requirement already satisfied: pyparsing>=2.3.1 in c:\\users\\arlet\\appdata\\local\\packages\\pythonsoftwarefoundation.python.3.11_qbz5n2kfra8p0\\localcache\\local-packages\\python311\\site-packages (from matplotlib) (3.2.0)\n",
      "Requirement already satisfied: python-dateutil>=2.7 in c:\\users\\arlet\\appdata\\local\\packages\\pythonsoftwarefoundation.python.3.11_qbz5n2kfra8p0\\localcache\\local-packages\\python311\\site-packages (from matplotlib) (2.9.0.post0)\n",
      "Requirement already satisfied: six>=1.5 in c:\\users\\arlet\\appdata\\local\\packages\\pythonsoftwarefoundation.python.3.11_qbz5n2kfra8p0\\localcache\\local-packages\\python311\\site-packages (from python-dateutil>=2.7->matplotlib) (1.16.0)\n",
      "Requirement already satisfied: seaborn in c:\\users\\arlet\\appdata\\local\\packages\\pythonsoftwarefoundation.python.3.11_qbz5n2kfra8p0\\localcache\\local-packages\\python311\\site-packages (0.13.2)\n",
      "Requirement already satisfied: numpy!=1.24.0,>=1.20 in c:\\users\\arlet\\appdata\\local\\packages\\pythonsoftwarefoundation.python.3.11_qbz5n2kfra8p0\\localcache\\local-packages\\python311\\site-packages (from seaborn) (2.1.3)\n",
      "Requirement already satisfied: pandas>=1.2 in c:\\users\\arlet\\appdata\\local\\packages\\pythonsoftwarefoundation.python.3.11_qbz5n2kfra8p0\\localcache\\local-packages\\python311\\site-packages (from seaborn) (2.2.3)\n",
      "Requirement already satisfied: matplotlib!=3.6.1,>=3.4 in c:\\users\\arlet\\appdata\\local\\packages\\pythonsoftwarefoundation.python.3.11_qbz5n2kfra8p0\\localcache\\local-packages\\python311\\site-packages (from seaborn) (3.9.2)\n",
      "Requirement already satisfied: contourpy>=1.0.1 in c:\\users\\arlet\\appdata\\local\\packages\\pythonsoftwarefoundation.python.3.11_qbz5n2kfra8p0\\localcache\\local-packages\\python311\\site-packages (from matplotlib!=3.6.1,>=3.4->seaborn) (1.3.0)\n",
      "Requirement already satisfied: cycler>=0.10 in c:\\users\\arlet\\appdata\\local\\packages\\pythonsoftwarefoundation.python.3.11_qbz5n2kfra8p0\\localcache\\local-packages\\python311\\site-packages (from matplotlib!=3.6.1,>=3.4->seaborn) (0.12.1)\n",
      "Requirement already satisfied: fonttools>=4.22.0 in c:\\users\\arlet\\appdata\\local\\packages\\pythonsoftwarefoundation.python.3.11_qbz5n2kfra8p0\\localcache\\local-packages\\python311\\site-packages (from matplotlib!=3.6.1,>=3.4->seaborn) (4.54.1)\n",
      "Requirement already satisfied: kiwisolver>=1.3.1 in c:\\users\\arlet\\appdata\\local\\packages\\pythonsoftwarefoundation.python.3.11_qbz5n2kfra8p0\\localcache\\local-packages\\python311\\site-packages (from matplotlib!=3.6.1,>=3.4->seaborn) (1.4.7)\n",
      "Requirement already satisfied: packaging>=20.0 in c:\\users\\arlet\\appdata\\local\\packages\\pythonsoftwarefoundation.python.3.11_qbz5n2kfra8p0\\localcache\\local-packages\\python311\\site-packages (from matplotlib!=3.6.1,>=3.4->seaborn) (24.1)\n",
      "Requirement already satisfied: pillow>=8 in c:\\users\\arlet\\appdata\\local\\packages\\pythonsoftwarefoundation.python.3.11_qbz5n2kfra8p0\\localcache\\local-packages\\python311\\site-packages (from matplotlib!=3.6.1,>=3.4->seaborn) (11.0.0)\n",
      "Requirement already satisfied: pyparsing>=2.3.1 in c:\\users\\arlet\\appdata\\local\\packages\\pythonsoftwarefoundation.python.3.11_qbz5n2kfra8p0\\localcache\\local-packages\\python311\\site-packages (from matplotlib!=3.6.1,>=3.4->seaborn) (3.2.0)\n",
      "Requirement already satisfied: python-dateutil>=2.7 in c:\\users\\arlet\\appdata\\local\\packages\\pythonsoftwarefoundation.python.3.11_qbz5n2kfra8p0\\localcache\\local-packages\\python311\\site-packages (from matplotlib!=3.6.1,>=3.4->seaborn) (2.9.0.post0)\n",
      "Requirement already satisfied: pytz>=2020.1 in c:\\users\\arlet\\appdata\\local\\packages\\pythonsoftwarefoundation.python.3.11_qbz5n2kfra8p0\\localcache\\local-packages\\python311\\site-packages (from pandas>=1.2->seaborn) (2024.2)\n",
      "Requirement already satisfied: tzdata>=2022.7 in c:\\users\\arlet\\appdata\\local\\packages\\pythonsoftwarefoundation.python.3.11_qbz5n2kfra8p0\\localcache\\local-packages\\python311\\site-packages (from pandas>=1.2->seaborn) (2024.2)\n",
      "Requirement already satisfied: six>=1.5 in c:\\users\\arlet\\appdata\\local\\packages\\pythonsoftwarefoundation.python.3.11_qbz5n2kfra8p0\\localcache\\local-packages\\python311\\site-packages (from python-dateutil>=2.7->matplotlib!=3.6.1,>=3.4->seaborn) (1.16.0)\n",
      "Collecting tabulate\n",
      "  Using cached tabulate-0.9.0-py3-none-any.whl.metadata (34 kB)\n",
      "Using cached tabulate-0.9.0-py3-none-any.whl (35 kB)\n",
      "Installing collected packages: tabulate\n",
      "Successfully installed tabulate-0.9.0\n"
     ]
    }
   ],
   "source": [
    "import sys\n",
    "python_loc = sys.executable\n",
    "\n",
    "!{python_loc} -m pip install pandas\n",
    "!{python_loc} -m pip install scikit-learn\n",
    "!{python_loc} -m pip install matplotlib\n",
    "!{python_loc} -m pip install seaborn\n",
    "!{python_loc} -m pip install tabulate"
   ]
  },
  {
   "cell_type": "code",
   "execution_count": 24,
   "metadata": {},
   "outputs": [],
   "source": [
    "# import useful libraries\n",
    "import pandas as pd\n",
    "import numpy as np\n",
    "from sklearn.cluster import KMeans\n",
    "from sklearn.preprocessing import StandardScaler\n",
    "from sklearn.decomposition import PCA\n",
    "import matplotlib.pyplot as plt\n",
    "import seaborn as sns\n",
    "\n",
    "from tabulate import tabulate # 'pip install tabulate' if you haven't install this library"
   ]
  },
  {
   "cell_type": "markdown",
   "metadata": {},
   "source": [
    "### **Part 1: Load Datasets**"
   ]
  },
  {
   "cell_type": "code",
   "execution_count": 25,
   "metadata": {},
   "outputs": [],
   "source": [
    "# Grade distribution data \n",
    "cs_grades = pd.read_csv('uic_GD_CS_14_24.csv')\n",
    "meie_grades = pd.read_csv('uic_GD_MEIE_14_24.csv')\n",
    "\n",
    "# Rate My Professor Data\n",
    "cs_rmp = pd.read_csv('uic_RMP_CS_14_24.csv')\n",
    "meie_rmp = pd.read_csv('CS418_Team5_DataSet - RMP_MEIE_14_24.csv')\n",
    "\n",
    "# Google Scholar Data\n",
    "cs_gs = pd.read_csv('CS418_Team5_DataSet - GS_CS_14_24.csv')\n",
    "meie_gs = pd.read_csv('CS418_Team5_DataSet - GS_MEIE_14_24.csv')\n",
    "\n",
    "# Lecture Data\n",
    "cs_lectures = pd.read_csv('uic_CS_lectures_all_semesters.csv')\n",
    "me_lectures = pd.read_csv('uic_ME_lectures_all_semesters.csv')\n",
    "ie_lectures = pd.read_csv('uic_IE_lectures_all_semesters.csv')\n",
    "\n",
    "# Course Description Data\n",
    "cs_descrip = pd.read_csv('CS418_Team5_DataSet - CS_Descrip.csv')"
   ]
  },
  {
   "cell_type": "markdown",
   "metadata": {},
   "source": []
  },
  {
   "cell_type": "code",
   "execution_count": 26,
   "metadata": {},
   "outputs": [
    {
     "data": {
      "text/html": [
       "<div>\n",
       "<style scoped>\n",
       "    .dataframe tbody tr th:only-of-type {\n",
       "        vertical-align: middle;\n",
       "    }\n",
       "\n",
       "    .dataframe tbody tr th {\n",
       "        vertical-align: top;\n",
       "    }\n",
       "\n",
       "    .dataframe thead th {\n",
       "        text-align: right;\n",
       "    }\n",
       "</style>\n",
       "<table border=\"1\" class=\"dataframe\">\n",
       "  <thead>\n",
       "    <tr style=\"text-align: right;\">\n",
       "      <th></th>\n",
       "      <th>Course Code</th>\n",
       "      <th>Course Title</th>\n",
       "      <th>CRN</th>\n",
       "      <th>Section Type</th>\n",
       "      <th>Time</th>\n",
       "      <th>Days</th>\n",
       "      <th>Instructor</th>\n",
       "      <th>Method</th>\n",
       "      <th>Semester</th>\n",
       "      <th>Year</th>\n",
       "    </tr>\n",
       "  </thead>\n",
       "  <tbody>\n",
       "    <tr>\n",
       "      <th>0</th>\n",
       "      <td>CS 100</td>\n",
       "      <td>Discovering Computer Science</td>\n",
       "      <td>17397.0</td>\n",
       "      <td>LCD</td>\n",
       "      <td>02:00 PM - 02:50 PM</td>\n",
       "      <td>MWF</td>\n",
       "      <td>Reed, D</td>\n",
       "      <td>NaN</td>\n",
       "      <td>Spring</td>\n",
       "      <td>2014</td>\n",
       "    </tr>\n",
       "    <tr>\n",
       "      <th>1</th>\n",
       "      <td>CS 107</td>\n",
       "      <td>Introduction to Computing and Programming</td>\n",
       "      <td>17412.0</td>\n",
       "      <td>LEC</td>\n",
       "      <td>12:30 PM - 01:45 PM</td>\n",
       "      <td>TR</td>\n",
       "      <td>Theys, M</td>\n",
       "      <td>NaN</td>\n",
       "      <td>Spring</td>\n",
       "      <td>2014</td>\n",
       "    </tr>\n",
       "    <tr>\n",
       "      <th>2</th>\n",
       "      <td>CS 109</td>\n",
       "      <td>C/C ++ Programming for Engineers with MatLab</td>\n",
       "      <td>19466.0</td>\n",
       "      <td>LCD</td>\n",
       "      <td>02:00 PM - 02:50 PM</td>\n",
       "      <td>MW</td>\n",
       "      <td>Hummel, J</td>\n",
       "      <td>NaN</td>\n",
       "      <td>Spring</td>\n",
       "      <td>2014</td>\n",
       "    </tr>\n",
       "    <tr>\n",
       "      <th>3</th>\n",
       "      <td>CS 111</td>\n",
       "      <td>Program Design I</td>\n",
       "      <td>34013.0</td>\n",
       "      <td>LCD</td>\n",
       "      <td>02:00 PM - 03:15 PM</td>\n",
       "      <td>TR</td>\n",
       "      <td>Troy, P</td>\n",
       "      <td>NaN</td>\n",
       "      <td>Spring</td>\n",
       "      <td>2014</td>\n",
       "    </tr>\n",
       "    <tr>\n",
       "      <th>4</th>\n",
       "      <td>CS 141</td>\n",
       "      <td>Program Design II</td>\n",
       "      <td>34447.0</td>\n",
       "      <td>LCD</td>\n",
       "      <td>01:00 PM - 01:50 PM</td>\n",
       "      <td>MWF</td>\n",
       "      <td>Reed, D</td>\n",
       "      <td>NaN</td>\n",
       "      <td>Spring</td>\n",
       "      <td>2014</td>\n",
       "    </tr>\n",
       "  </tbody>\n",
       "</table>\n",
       "</div>"
      ],
      "text/plain": [
       "  Course Code                                  Course Title      CRN  \\\n",
       "0      CS 100                  Discovering Computer Science  17397.0   \n",
       "1      CS 107     Introduction to Computing and Programming  17412.0   \n",
       "2      CS 109  C/C ++ Programming for Engineers with MatLab  19466.0   \n",
       "3      CS 111                              Program Design I  34013.0   \n",
       "4      CS 141                             Program Design II  34447.0   \n",
       "\n",
       "  Section Type                 Time Days Instructor Method Semester  Year  \n",
       "0          LCD  02:00 PM - 02:50 PM  MWF    Reed, D    NaN   Spring  2014  \n",
       "1          LEC  12:30 PM - 01:45 PM   TR   Theys, M    NaN   Spring  2014  \n",
       "2          LCD  02:00 PM - 02:50 PM   MW  Hummel, J    NaN   Spring  2014  \n",
       "3          LCD  02:00 PM - 03:15 PM   TR    Troy, P    NaN   Spring  2014  \n",
       "4          LCD  01:00 PM - 01:50 PM  MWF    Reed, D    NaN   Spring  2014  "
      ]
     },
     "execution_count": 26,
     "metadata": {},
     "output_type": "execute_result"
    }
   ],
   "source": [
    "cs_lectures.head(5)\n",
    "\n",
    "# print(cs_lectures['Method'].unique())\n",
    "\n",
    "\n",
    "\n",
    "\n"
   ]
  },
  {
   "cell_type": "markdown",
   "metadata": {},
   "source": [
    "### **Part 2: Data Cleaning**"
   ]
  },
  {
   "cell_type": "code",
   "execution_count": 27,
   "metadata": {},
   "outputs": [
    {
     "name": "stderr",
     "output_type": "stream",
     "text": [
      "C:\\Users\\arlet\\AppData\\Local\\Temp\\ipykernel_11324\\2082822981.py:12: FutureWarning: errors='ignore' is deprecated and will raise in a future version. Use to_numeric without passing `errors` and catch exceptions explicitly instead\n",
      "  cs_grades[col] = pd.to_numeric(cs_grades[col], errors='ignore')\n",
      "C:\\Users\\arlet\\AppData\\Local\\Temp\\ipykernel_11324\\2082822981.py:15: FutureWarning: errors='ignore' is deprecated and will raise in a future version. Use to_numeric without passing `errors` and catch exceptions explicitly instead\n",
      "  meie_grades[col] = pd.to_numeric(meie_grades[col], errors='ignore')\n"
     ]
    }
   ],
   "source": [
    "# Grade distribution data cleaning\n",
    "# Drop columns where all values are zero\n",
    "cs_grades = cs_grades.loc[:, (cs_grades != 0).any(axis=0)]\n",
    "meie_grades = meie_grades.loc[:, (meie_grades != 0).any(axis=0)]\n",
    "\n",
    "# Drop rows where CRS TITLE (course title) contains \"research\" or \"seminar\" (case-insensitive)\n",
    "cs_grades = cs_grades[~cs_grades['CRS TITLE'].str.contains(\"research|seminar\", case=False, na=False)]\n",
    "meie_grades = meie_grades[~meie_grades['CRS TITLE'].str.contains(\"research|seminar\", case=False, na=False)]\n",
    "\n",
    "# Convert all numeric columns to integers or floats\n",
    "for col in cs_grades.columns:\n",
    "    cs_grades[col] = pd.to_numeric(cs_grades[col], errors='ignore')\n",
    "\n",
    "for col in meie_grades.columns:\n",
    "    meie_grades[col] = pd.to_numeric(meie_grades[col], errors='ignore')\n",
    "\n",
    "# Save the cleaned data to a new CSV file\n",
    "cs_grades.to_csv(\"uic_GD_CS_14_24.csv\", index=False)\n",
    "meie_grades.to_csv(\"uic_GD_MEIE_14_24.csv\", index=False)"
   ]
  },
  {
   "cell_type": "markdown",
   "metadata": {},
   "source": [
    "#### **Dataset 2 - Rate My Professor - computer Science Department **"
   ]
  },
  {
   "cell_type": "code",
   "execution_count": null,
   "metadata": {},
   "outputs": [],
   "source": [
    "\n",
    "cs_grades.rename(columns={'Primary Instructor': 'Instructor'}, inplace=True)\n",
    "\n",
    "# Filter for courses\n",
    "cs_grades = cs_grades[cs_grades['CRS NBR'].between(100, 599)]\n",
    "\n",
    "merged_data = pd.merge(cs_grades, cs_rmp, on='Instructor', how='left')\n",
    "\n",
    "# Fill missing values with \"N/A\" for NULL columns\n",
    "merged_data['Rating'] = merged_data['Rating'].fillna(\"N/A\")\n",
    "merged_data['Num Reviews'] = merged_data['Num Reviews'].fillna(\"N/A\")\n",
    "merged_data[['CRS SUBJ CD', 'CRS TITLE', 'Instructor']] = merged_data[['CRS SUBJ CD', 'CRS TITLE', 'Instructor']].fillna(\"N/A\")\n",
    "\n",
    "# Select relevant columns and sort by course number (CRS NBR)\n",
    "result_data = merged_data[['CRS SUBJ CD', 'CRS NBR', 'CRS TITLE', 'Instructor', 'Rating', 'Num Reviews']]\n",
    "result_data = result_data.sort_values(by=['CRS NBR'])\n",
    "\n",
    "print(tabulate(result_data, headers='keys', tablefmt='fancy_grid', showindex=False))"
   ]
  },
  {
   "cell_type": "markdown",
   "metadata": {},
   "source": [
    "#### **Dataset 2 - Rate My Professor - Mechanical & Industrial Engineering Department**"
   ]
  },
  {
   "cell_type": "code",
   "execution_count": null,
   "metadata": {},
   "outputs": [],
   "source": [
    "meie_grades.rename(columns={'Primary Instructor': 'Instructor'}, inplace=True)\n",
    "\n",
    "# Filter for courses\n",
    "meie_grades = meie_grades[meie_grades['CRS NBR'].between(100, 599)]\n",
    "\n",
    "merged_data = pd.merge(meie_grades, meie_rmp, on='Instructor', how='left')\n",
    "\n",
    "# Fill missing values with \"N/A\" for Null columns\n",
    "merged_data['Rating'] = merged_data['Rating'].fillna(\"N/A\")\n",
    "merged_data['Num Reviews'] = merged_data['Num Reviews'].fillna(\"N/A\")\n",
    "merged_data[['CRS SUBJ CD', 'CRS TITLE', 'Instructor']] = merged_data[['CRS SUBJ CD', 'CRS TITLE', 'Instructor']].fillna(\"N/A\")\n",
    "\n",
    "# Select relevant columns then sort them by course number\n",
    "result_data = merged_data[['CRS SUBJ CD', \n",
    "                           'CRS NBR', \n",
    "                           'CRS TITLE', \n",
    "                           'Instructor', \n",
    "                           'Rating', \n",
    "                           'Num Reviews']]\n",
    "result_data = result_data.sort_values(by=['CRS NBR'])\n",
    "\n",
    "print(tabulate(result_data, headers='keys', tablefmt='fancy_grid', showindex=False))"
   ]
  },
  {
   "cell_type": "markdown",
   "metadata": {},
   "source": [
    "#### **Dataset 3 - class Scheduler Data**"
   ]
  },
  {
   "cell_type": "markdown",
   "metadata": {},
   "source": [
    "### **Part 3: Exploratory Data Analysis**"
   ]
  },
  {
   "cell_type": "code",
   "execution_count": null,
   "metadata": {},
   "outputs": [],
   "source": []
  },
  {
   "cell_type": "markdown",
   "metadata": {},
   "source": [
    "### **Part 4: Data Visualizations**"
   ]
  },
  {
   "cell_type": "code",
   "execution_count": null,
   "metadata": {},
   "outputs": [],
   "source": []
  },
  {
   "cell_type": "markdown",
   "metadata": {},
   "source": [
    "### **Part 5: Machine Learning Analysis**"
   ]
  },
  {
   "cell_type": "markdown",
   "metadata": {},
   "source": []
  },
  {
   "cell_type": "markdown",
   "metadata": {},
   "source": [
    "## **Reflection**"
   ]
  },
  {
   "cell_type": "markdown",
   "metadata": {},
   "source": [
    "**What is the hardest part of the project that you’ve encountered so far?**\n",
    "\n",
    "\n",
    "<br>**What are your initial insights?**\n",
    "\n",
    "\n",
    "<br>**Are there any concrete results you can show at this point? If not, why not?**\n",
    "\n",
    "\n",
    "<br>**Going forward, what are the current biggest problems you’re facing?**\n",
    "\n",
    "\n",
    "<br>**Do you think you are on track with your project? If not, what parts do you need to dedicate more time to?**\n",
    "\n",
    "\n",
    "<br>**Given your initial exploration of the data, is it worth proceeding with your project, why? If not, how are you going to change your project and why do you think it’s better than your current results?**\n",
    "\n"
   ]
  },
  {
   "cell_type": "markdown",
   "metadata": {},
   "source": [
    "## **Roles/Coordination (important)**"
   ]
  },
  {
   "cell_type": "markdown",
   "metadata": {},
   "source": [
    "**Arlette Diaz:** \n",
    "* Text\n",
    "\n",
    "<br>**Marianne Hernandez:** \n",
    "* Text\n",
    "\n",
    "<br>**Nandini Jirobe:** \n",
    "* Collected Rate My Professor ratings for professors who taught Mechanical and Industrial Enginnering classes from 2014-2024\n",
    "* Collected Rate My Professor ratings for professors in the Computer Science classes from 2014-2024\n",
    "* Collected Google Scholar research interests of professors who taught Mechanical and Industrial Enginnering classes from 2014-2024\n",
    "* Collected Google Scholar research interests of professors in the Computer Science classes from 2014-2024\n",
    "* Collected course description data for computer science courses taught at UIC. \n",
    "\n",
    "<br>**Sharadruthi Muppidi:** \n",
    "* Text\n",
    "\n",
    "<br>**Sonina Mut:** \n",
    "* Collected UIC Grade Distribution for professors who taught Mechanical and Industrial Enginnering classes from 2014-2024\n",
    "* Collected UIC Grade Distribution for professors in the Computer Science classes from 2014-2024\n",
    "* Collected Rate My Professor ratings for professors who taught Mechanical and Industrial Enginnering classes from 2014-2024\n",
    "* Collected Rate My Professor ratings for professors in the Computer Science classes from 2014-2024\n",
    "\n",
    "<br>**Yuting Lu:** \n",
    "* Text"
   ]
  },
  {
   "cell_type": "markdown",
   "metadata": {},
   "source": [
    "## **Next Steps**"
   ]
  },
  {
   "cell_type": "code",
   "execution_count": null,
   "metadata": {},
   "outputs": [],
   "source": []
  }
 ],
 "metadata": {
  "kernelspec": {
   "display_name": "Python 3 (ipykernel)",
   "language": "python",
   "name": "python3"
  },
  "language_info": {
   "codemirror_mode": {
    "name": "ipython",
    "version": 3
   },
   "file_extension": ".py",
   "mimetype": "text/x-python",
   "name": "python",
   "nbconvert_exporter": "python",
   "pygments_lexer": "ipython3",
   "version": "3.12.4"
  }
 },
 "nbformat": 4,
 "nbformat_minor": 4
}
