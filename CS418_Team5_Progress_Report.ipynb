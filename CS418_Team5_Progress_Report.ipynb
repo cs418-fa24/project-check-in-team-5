{
 "cells": [
  {
   "cell_type": "markdown",
   "metadata": {},
   "source": [
    "## **University of Illinois Chicago**\n",
    "CS 418 - Fall 2024 Team 5"
   ]
  },
  {
   "cell_type": "markdown",
   "metadata": {},
   "source": [
    "## **Data-Driven Course Insights: Predicting Grade Trends**"
   ]
  },
  {
   "cell_type": "markdown",
   "metadata": {},
   "source": [
    "## **Authors:**\n",
    "| **Name**  | **Email** | **Github Handle** |\n",
    "|---|---|---|\n",
    "| Arlette Diaz | adiaz218@uic.edu | adiaz218 |\n",
    "| Marianne Hernandez | mhern85@uic.edu | marhern19 |\n",
    "| Nandini Jirobe | njiro2@uic.edu | nandinijirobe |\n",
    "| Sharadruthi Muppidi | smuppi2@uic.edu | sharadruthi-uic |\n",
    "| Sonina Mut | smut3@uic.edu | snina22 |\n",
    "| Yuting Lu | lyuti@uic.edu | yutinglu103 |"
   ]
  },
  {
   "cell_type": "markdown",
   "metadata": {},
   "source": [
    "**Github Repository Link: https://github.com/cs418-fa24/project-check-in-team-5**"
   ]
  },
  {
   "cell_type": "markdown",
   "metadata": {},
   "source": [
    "## **Project Description**"
   ]
  },
  {
   "cell_type": "markdown",
   "metadata": {},
   "source": [
    "This project is to predict course grade distributions and popularity rankings for upcoming semesters, enabling students to make informed decisions about their class selections. By shifting the focus from individual grade predictions to overall course outcomes, the project provides insights into course grading trends and demand. It uses clustering to rank courses based on student performance and popularity, and topic-based grouping to help students discover courses aligned with their interests, factoring in professor expertise and class attributes. This data-driven tool uncovers hidden patterns, aiding both students and academic planning."
   ]
  },
  {
   "cell_type": "markdown",
   "metadata": {},
   "source": [
    "## **Project Update**"
   ]
  },
  {
   "cell_type": "markdown",
   "metadata": {},
   "source": [
    "### **Import Packages**"
   ]
  },
  {
   "cell_type": "code",
   "execution_count": null,
   "metadata": {},
   "outputs": [],
   "source": [
    "!c:\\\\Users\\\\nandi\\\\anaconda3\\\\envs\\\\cs418-fa24\\\\python.exe -m pip install pandas\n",
    "!c:\\\\Users\\\\nandi\\\\anaconda3\\\\envs\\\\cs418-fa24\\\\python.exe -m pip install scikit-learn \n",
    "!c:\\\\Users\\\\nandi\\\\anaconda3\\\\envs\\\\cs418-fa24\\\\python.exe -m pip install matplotlib\n",
    "!c:\\\\Users\\\\nandi\\\\anaconda3\\\\envs\\\\cs418-fa24\\\\python.exe -m pip install seaborn"
   ]
  },
  {
   "cell_type": "code",
   "execution_count": 4,
   "metadata": {},
   "outputs": [],
   "source": [
    "# import useful libraries\n",
    "import pandas as pd\n",
    "import numpy as np\n",
    "from sklearn.cluster import KMeans\n",
    "from sklearn.preprocessing import StandardScaler\n",
    "from sklearn.decomposition import PCA\n",
    "import matplotlib.pyplot as plt\n",
    "import seaborn as sns"
   ]
  },
  {
   "cell_type": "markdown",
   "metadata": {},
   "source": [
    "### **Part 1: Load Datasets**"
   ]
  },
  {
   "cell_type": "code",
   "execution_count": null,
   "metadata": {},
   "outputs": [],
   "source": []
  },
  {
   "cell_type": "markdown",
   "metadata": {},
   "source": [
    "### **Part 2: Data Cleaning**"
   ]
  },
  {
   "cell_type": "code",
   "execution_count": null,
   "metadata": {},
   "outputs": [],
   "source": []
  },
  {
   "cell_type": "markdown",
   "metadata": {},
   "source": [
    "### **Part 3: Exploratory Data Analysis**"
   ]
  },
  {
   "cell_type": "code",
   "execution_count": null,
   "metadata": {},
   "outputs": [],
   "source": []
  },
  {
   "cell_type": "markdown",
   "metadata": {},
   "source": [
    "### **Part 4: Data Visualizations**"
   ]
  },
  {
   "cell_type": "code",
   "execution_count": null,
   "metadata": {},
   "outputs": [],
   "source": []
  },
  {
   "cell_type": "markdown",
   "metadata": {},
   "source": [
    "### **Part 5: Machine Learning Analysis**"
   ]
  },
  {
   "cell_type": "markdown",
   "metadata": {},
   "source": []
  },
  {
   "cell_type": "markdown",
   "metadata": {},
   "source": [
    "## **Reflection**"
   ]
  },
  {
   "cell_type": "markdown",
   "metadata": {},
   "source": [
    "**What is the hardest part of the project that you’ve encountered so far?**\n",
    "\n",
    "\n",
    "<br>**What are your initial insights?**\n",
    "\n",
    "\n",
    "<br>**Are there any concrete results you can show at this point? If not, why not?**\n",
    "\n",
    "\n",
    "<br>**Going forward, what are the current biggest problems you’re facing?**\n",
    "\n",
    "\n",
    "<br>**Do you think you are on track with your project? If not, what parts do you need to dedicate more time to?**\n",
    "\n",
    "\n",
    "<br>**Given your initial exploration of the data, is it worth proceeding with your project, why? If not, how are you going to change your project and why do you think it’s better than your current results?**\n",
    "\n"
   ]
  },
  {
   "cell_type": "markdown",
   "metadata": {},
   "source": [
    "## **Roles/Coordination (important)**"
   ]
  },
  {
   "cell_type": "markdown",
   "metadata": {},
   "source": [
    "**Arlette Diaz:** \n",
    "* Text\n",
    "\n",
    "<br>**Marianne Hernandez:** \n",
    "* Text\n",
    "\n",
    "<br>**Nandini Jirobe:** \n",
    "* Collected Rate My Professor ratings for professors who taught Mechanical and Industrial Enginnering classes from 2014-2024\n",
    "* Collected Rate My Professor ratings for professors in the Computer Science classes from 2014-2024\n",
    "* Collected Google Scholar research interests of professors who taught Mechanical and Industrial Enginnering classes from 2014-2024\n",
    "* Collected Google Scholar research interests of professors in the Computer Science classes from 2014-2024\n",
    "* Collected course description data for computer science courses taught at UIC. \n",
    "\n",
    "<br>**Sharadruthi Muppidi:** \n",
    "* Text\n",
    "\n",
    "<br>**Sonina Mut:** \n",
    "* Text\n",
    "\n",
    "<br>**Yuting Lu:** \n",
    "* Text"
   ]
  },
  {
   "cell_type": "markdown",
   "metadata": {},
   "source": [
    "## **Next Steps**"
   ]
  },
  {
   "cell_type": "code",
   "execution_count": null,
   "metadata": {},
   "outputs": [],
   "source": []
  }
 ],
 "metadata": {
  "kernelspec": {
   "display_name": "cs418-fa24",
   "language": "python",
   "name": "python3"
  },
  "language_info": {
   "codemirror_mode": {
    "name": "ipython",
    "version": 3
   },
   "file_extension": ".py",
   "mimetype": "text/x-python",
   "name": "python",
   "nbconvert_exporter": "python",
   "pygments_lexer": "ipython3",
   "version": "3.12.4"
  }
 },
 "nbformat": 4,
 "nbformat_minor": 4
}
